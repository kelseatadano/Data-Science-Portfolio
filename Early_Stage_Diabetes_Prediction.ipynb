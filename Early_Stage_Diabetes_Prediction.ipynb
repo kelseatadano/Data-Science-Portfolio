{
  "nbformat": 4,
  "nbformat_minor": 0,
  "metadata": {
    "colab": {
      "provenance": []
    },
    "kernelspec": {
      "name": "python3",
      "display_name": "Python 3"
    },
    "language_info": {
      "name": "python"
    }
  },
  "cells": [
    {
      "cell_type": "markdown",
      "source": [
        "## Upload the dataframe"
      ],
      "metadata": {
        "id": "JKqfPwVLBNJO"
      }
    },
    {
      "cell_type": "code",
      "execution_count": 7,
      "metadata": {
        "id": "jawf0pTX-6Wd"
      },
      "outputs": [],
      "source": [
        "import pandas as pd\n",
        "df = pd.read_csv(\"diabetes_data_upload.csv\")"
      ]
    },
    {
      "cell_type": "markdown",
      "source": [
        "## Import Packages"
      ],
      "metadata": {
        "id": "HQjz9Hy6p6To"
      }
    },
    {
      "cell_type": "code",
      "source": [
        "import numpy as np\n",
        "import matplotlib.pyplot as plt\n",
        "import seaborn as sns\n",
        "from sklearn.model_selection import train_test_split\n",
        "from sklearn.preprocessing import StandardScaler\n",
        "from sklearn.linear_model import LogisticRegression\n",
        "from sklearn.metrics import accuracy_score, classification_report, confusion_matrix\n",
        "from sklearn.feature_selection import SelectKBest\n",
        "from sklearn.feature_selection import chi2"
      ],
      "metadata": {
        "id": "kHOZcYvyezD1"
      },
      "execution_count": 8,
      "outputs": []
    },
    {
      "cell_type": "markdown",
      "source": [
        "## Project Introduction\n",
        "\n",
        "The prevalence of diabetes has risen significantly over the past few decades with an estimated 537 million adults living with the disease in 2021. This condition is categorized by high blood sugar levels due to insulin resistance, inadequate insulin production, or both.\n",
        "\n",
        "If diabetes is left undiagnosed or unmanaged, the disease can manifest in several complications including cardiovascular disease, kidney failure, vision impairment, and increased risk of infection.\n",
        "\n",
        "With early diabetes detection and management, these complications can be prevented or delayed. Because diabetes can go undiagnosed until complications occur, there is a need for solid prediction models that can identify individuals at high risk of developing diabetes.\n",
        "\n",
        "This project aims to develop a machine learning based prediction model for early stage diabetes detection using real patient data."
      ],
      "metadata": {
        "id": "oqrjXMjF_Oqt"
      }
    },
    {
      "cell_type": "markdown",
      "source": [
        "\n",
        "## Data Overview\n",
        "\n",
        "Here we view all the features of the dataframe, check the data types of feature, check for any missing or null values, and then check for the total number of rows and columns."
      ],
      "metadata": {
        "id": "S2sy3qQPqIWG"
      }
    },
    {
      "cell_type": "code",
      "source": [
        "print(df.head())  # View first few rows\n",
        "print(df.info())  # Check data types and check for missing values\n",
        "print(df.describe())  # Summary statistics\n",
        "print(df.shape) # number of records and columns\n"
      ],
      "metadata": {
        "colab": {
          "base_uri": "https://localhost:8080/"
        },
        "id": "HV7nx6otClzp",
        "outputId": "818ab695-edb6-49d2-c123-b7d9f016f6f9"
      },
      "execution_count": 9,
      "outputs": [
        {
          "output_type": "stream",
          "name": "stdout",
          "text": [
            "   Age Gender Polyuria Polydipsia sudden weight loss weakness Polyphagia  \\\n",
            "0   40   Male       No        Yes                 No      Yes         No   \n",
            "1   58   Male       No         No                 No      Yes         No   \n",
            "2   41   Male      Yes         No                 No      Yes        Yes   \n",
            "3   45   Male       No         No                Yes      Yes        Yes   \n",
            "4   60   Male      Yes        Yes                Yes      Yes        Yes   \n",
            "\n",
            "  Genital thrush visual blurring Itching Irritability delayed healing  \\\n",
            "0             No              No     Yes           No             Yes   \n",
            "1             No             Yes      No           No              No   \n",
            "2             No              No     Yes           No             Yes   \n",
            "3            Yes              No     Yes           No             Yes   \n",
            "4             No             Yes     Yes          Yes             Yes   \n",
            "\n",
            "  partial paresis muscle stiffness Alopecia Obesity     class  \n",
            "0              No              Yes      Yes     Yes  Positive  \n",
            "1             Yes               No      Yes      No  Positive  \n",
            "2              No              Yes      Yes      No  Positive  \n",
            "3              No               No       No      No  Positive  \n",
            "4             Yes              Yes      Yes     Yes  Positive  \n",
            "<class 'pandas.core.frame.DataFrame'>\n",
            "RangeIndex: 520 entries, 0 to 519\n",
            "Data columns (total 17 columns):\n",
            " #   Column              Non-Null Count  Dtype \n",
            "---  ------              --------------  ----- \n",
            " 0   Age                 520 non-null    int64 \n",
            " 1   Gender              520 non-null    object\n",
            " 2   Polyuria            520 non-null    object\n",
            " 3   Polydipsia          520 non-null    object\n",
            " 4   sudden weight loss  520 non-null    object\n",
            " 5   weakness            520 non-null    object\n",
            " 6   Polyphagia          520 non-null    object\n",
            " 7   Genital thrush      520 non-null    object\n",
            " 8   visual blurring     520 non-null    object\n",
            " 9   Itching             520 non-null    object\n",
            " 10  Irritability        520 non-null    object\n",
            " 11  delayed healing     520 non-null    object\n",
            " 12  partial paresis     520 non-null    object\n",
            " 13  muscle stiffness    520 non-null    object\n",
            " 14  Alopecia            520 non-null    object\n",
            " 15  Obesity             520 non-null    object\n",
            " 16  class               520 non-null    object\n",
            "dtypes: int64(1), object(16)\n",
            "memory usage: 69.2+ KB\n",
            "None\n",
            "              Age\n",
            "count  520.000000\n",
            "mean    48.028846\n",
            "std     12.151466\n",
            "min     16.000000\n",
            "25%     39.000000\n",
            "50%     47.500000\n",
            "75%     57.000000\n",
            "max     90.000000\n",
            "(520, 17)\n"
          ]
        }
      ]
    },
    {
      "cell_type": "code",
      "source": [],
      "metadata": {
        "id": "5vheN83xrLX6"
      },
      "execution_count": null,
      "outputs": []
    },
    {
      "cell_type": "markdown",
      "source": [
        "#Goal\n",
        " In this scenario, the target variable is whether the patient is screened positive or negative for diabetes. Now, we need to find the variables or features most importantly used for prediction."
      ],
      "metadata": {
        "id": "tFljNmGIJlIT"
      }
    },
    {
      "cell_type": "markdown",
      "source": [
        "\n",
        "# Data Encoding\n",
        "\n",
        "For this model we will use binary encoding. Binary encoding is used for categorical features with only two possible values (e.g., Yes/No, Male/Female) to convert them into numerical representations (0 and 1). This transformation is essential for machine learning models, as most algorithms work with numerical inputs rather than text."
      ],
      "metadata": {
        "id": "diNxmIzyLOlP"
      }
    },
    {
      "cell_type": "code",
      "source": [
        "df['Gender'].replace({'Male': 1, 'Female': 0}, inplace=True)\n",
        "df['class'].replace({'Positive': 1, 'Negative': 0}, inplace=True)\n",
        "\n",
        "columns_with_yes_or_no = ['Polyuria','Polydipsia','sudden weight loss','weakness','Polyphagia','Genital thrush', 'visual blurring', 'Itching', 'Irritability', 'delayed healing','partial paresis', 'muscle stiffness', 'Alopecia', 'Obesity']\n",
        "df[columns_with_yes_or_no] = df[columns_with_yes_or_no].replace({'Yes': 1, 'No': 0})"
      ],
      "metadata": {
        "colab": {
          "base_uri": "https://localhost:8080/"
        },
        "id": "d5800WCzKP4R",
        "outputId": "045a6054-79a3-4e17-f78b-7227954765d4"
      },
      "execution_count": 10,
      "outputs": [
        {
          "output_type": "stream",
          "name": "stderr",
          "text": [
            "<ipython-input-10-66c99e81d297>:1: FutureWarning: A value is trying to be set on a copy of a DataFrame or Series through chained assignment using an inplace method.\n",
            "The behavior will change in pandas 3.0. This inplace method will never work because the intermediate object on which we are setting values always behaves as a copy.\n",
            "\n",
            "For example, when doing 'df[col].method(value, inplace=True)', try using 'df.method({col: value}, inplace=True)' or df[col] = df[col].method(value) instead, to perform the operation inplace on the original object.\n",
            "\n",
            "\n",
            "  df['Gender'].replace({'Male': 1, 'Female': 0}, inplace=True)\n",
            "<ipython-input-10-66c99e81d297>:1: FutureWarning: Downcasting behavior in `replace` is deprecated and will be removed in a future version. To retain the old behavior, explicitly call `result.infer_objects(copy=False)`. To opt-in to the future behavior, set `pd.set_option('future.no_silent_downcasting', True)`\n",
            "  df['Gender'].replace({'Male': 1, 'Female': 0}, inplace=True)\n",
            "<ipython-input-10-66c99e81d297>:2: FutureWarning: A value is trying to be set on a copy of a DataFrame or Series through chained assignment using an inplace method.\n",
            "The behavior will change in pandas 3.0. This inplace method will never work because the intermediate object on which we are setting values always behaves as a copy.\n",
            "\n",
            "For example, when doing 'df[col].method(value, inplace=True)', try using 'df.method({col: value}, inplace=True)' or df[col] = df[col].method(value) instead, to perform the operation inplace on the original object.\n",
            "\n",
            "\n",
            "  df['class'].replace({'Positive': 1, 'Negative': 0}, inplace=True)\n",
            "<ipython-input-10-66c99e81d297>:2: FutureWarning: Downcasting behavior in `replace` is deprecated and will be removed in a future version. To retain the old behavior, explicitly call `result.infer_objects(copy=False)`. To opt-in to the future behavior, set `pd.set_option('future.no_silent_downcasting', True)`\n",
            "  df['class'].replace({'Positive': 1, 'Negative': 0}, inplace=True)\n",
            "<ipython-input-10-66c99e81d297>:5: FutureWarning: Downcasting behavior in `replace` is deprecated and will be removed in a future version. To retain the old behavior, explicitly call `result.infer_objects(copy=False)`. To opt-in to the future behavior, set `pd.set_option('future.no_silent_downcasting', True)`\n",
            "  df[columns_with_yes_or_no] = df[columns_with_yes_or_no].replace({'Yes': 1, 'No': 0})\n"
          ]
        }
      ]
    },
    {
      "cell_type": "markdown",
      "source": [
        "## Verify the changes"
      ],
      "metadata": {
        "id": "HV1rIRUmrl7T"
      }
    },
    {
      "cell_type": "code",
      "source": [
        "print(df.head())  # View first few rows\n",
        "print(df.info())  # Check data types and missing values"
      ],
      "metadata": {
        "colab": {
          "base_uri": "https://localhost:8080/"
        },
        "id": "8SRs4Xg7h9TE",
        "outputId": "773b1ce5-47b5-47f5-89c8-e247f7c2cab6"
      },
      "execution_count": 22,
      "outputs": [
        {
          "output_type": "stream",
          "name": "stdout",
          "text": [
            "   Age  Gender  Polyuria  Polydipsia  sudden weight loss  weakness  \\\n",
            "0   40       1         0           1                   0         1   \n",
            "1   58       1         0           0                   0         1   \n",
            "2   41       1         1           0                   0         1   \n",
            "3   45       1         0           0                   1         1   \n",
            "4   60       1         1           1                   1         1   \n",
            "\n",
            "   Polyphagia  Genital thrush  visual blurring  Itching  Irritability  \\\n",
            "0           0               0                0        1             0   \n",
            "1           0               0                1        0             0   \n",
            "2           1               0                0        1             0   \n",
            "3           1               1                0        1             0   \n",
            "4           1               0                1        1             1   \n",
            "\n",
            "   delayed healing  partial paresis  muscle stiffness  Alopecia  Obesity  \\\n",
            "0                1                0                 1         1        1   \n",
            "1                0                1                 0         1        0   \n",
            "2                1                0                 1         1        0   \n",
            "3                1                0                 0         0        0   \n",
            "4                1                1                 1         1        1   \n",
            "\n",
            "   class  \n",
            "0      1  \n",
            "1      1  \n",
            "2      1  \n",
            "3      1  \n",
            "4      1  \n",
            "<class 'pandas.core.frame.DataFrame'>\n",
            "RangeIndex: 520 entries, 0 to 519\n",
            "Data columns (total 17 columns):\n",
            " #   Column              Non-Null Count  Dtype\n",
            "---  ------              --------------  -----\n",
            " 0   Age                 520 non-null    int64\n",
            " 1   Gender              520 non-null    int64\n",
            " 2   Polyuria            520 non-null    int64\n",
            " 3   Polydipsia          520 non-null    int64\n",
            " 4   sudden weight loss  520 non-null    int64\n",
            " 5   weakness            520 non-null    int64\n",
            " 6   Polyphagia          520 non-null    int64\n",
            " 7   Genital thrush      520 non-null    int64\n",
            " 8   visual blurring     520 non-null    int64\n",
            " 9   Itching             520 non-null    int64\n",
            " 10  Irritability        520 non-null    int64\n",
            " 11  delayed healing     520 non-null    int64\n",
            " 12  partial paresis     520 non-null    int64\n",
            " 13  muscle stiffness    520 non-null    int64\n",
            " 14  Alopecia            520 non-null    int64\n",
            " 15  Obesity             520 non-null    int64\n",
            " 16  class               520 non-null    int64\n",
            "dtypes: int64(17)\n",
            "memory usage: 69.2 KB\n",
            "None\n"
          ]
        }
      ]
    },
    {
      "cell_type": "markdown",
      "source": [
        "## Selecting the Best Features for the Model"
      ],
      "metadata": {
        "id": "AeLX4oJOrq9d"
      }
    },
    {
      "cell_type": "code",
      "source": [
        "X = df.iloc[:,1:16] # all features\n",
        "Y = df.iloc[:,-1] # target output -> postive or negative correlations\n",
        "\n",
        "# select the top 10 features\n",
        "best_features = SelectKBest(score_func=chi2, k=10) # using KBest function to find the best features\n",
        "fit = best_features.fit(X,Y)\n",
        "\n",
        "df_scores = pd.DataFrame(fit.scores_)\n",
        "df_columns = pd.DataFrame(X.columns)\n",
        "\n",
        "#combine all the features and thier corresponding scores in one data frame\n",
        "feature_scores = pd.concat([df_columns, df_scores], axis=1)\n",
        "feature_scores.columns = ['Features', 'Score']\n",
        "print(feature_scores.nlargest(10, 'Score'))"
      ],
      "metadata": {
        "colab": {
          "base_uri": "https://localhost:8080/"
        },
        "id": "yQV5rSGZiV6v",
        "outputId": "35387cd8-3eff-4ef3-a40c-4d36294eb69b"
      },
      "execution_count": 12,
      "outputs": [
        {
          "output_type": "stream",
          "name": "stdout",
          "text": [
            "              Features       Score\n",
            "2           Polydipsia  120.785515\n",
            "1             Polyuria  116.184593\n",
            "3   sudden weight loss   57.749309\n",
            "11     partial paresis   55.314286\n",
            "0               Gender   38.747637\n",
            "9         Irritability   35.334127\n",
            "5           Polyphagia   33.198418\n",
            "13            Alopecia   24.402793\n",
            "7      visual blurring   18.124571\n",
            "4             weakness   12.724262\n"
          ]
        }
      ]
    },
    {
      "cell_type": "markdown",
      "source": [
        "## Logistic Regression Model with 6 Best Features\n"
      ],
      "metadata": {
        "id": "-YhoYHglrxOy"
      }
    },
    {
      "cell_type": "code",
      "source": [
        "select_features = ['Polydipsia', 'Polyuria', 'sudden weight loss', 'partial paresis', 'Irritability', 'Polyphagia']\n",
        "X = df[select_features]\n",
        "Y = df['class']\n",
        "\n",
        "# split the dataset into train and test\n",
        "X_train, X_test, Y_train, Y_test = train_test_split(X, Y, test_size=0.2, random_state=42)\n",
        "\n",
        "logregression = LogisticRegression()\n",
        "logregression.fit(X_train, Y_train)\n",
        "\n",
        "Y_pred =logregression.predict(X_test)\n",
        "print(X_test) # test dataset\n",
        "print(Y_pred ) # predicted values"
      ],
      "metadata": {
        "colab": {
          "base_uri": "https://localhost:8080/"
        },
        "id": "zN653hPGjzh8",
        "outputId": "6aca5973-dbae-46a6-af14-790b8cbf0280"
      },
      "execution_count": 14,
      "outputs": [
        {
          "output_type": "stream",
          "name": "stdout",
          "text": [
            "     Polydipsia  Polyuria  sudden weight loss  partial paresis  Irritability  \\\n",
            "275           0         1                   0                1             0   \n",
            "93            1         1                   0                1             0   \n",
            "6             1         1                   0                1             0   \n",
            "167           1         1                   1                0             1   \n",
            "90            0         0                   0                1             0   \n",
            "..          ...       ...                 ...              ...           ...   \n",
            "69            1         1                   1                1             0   \n",
            "357           0         0                   0                0             0   \n",
            "423           1         1                   0                1             0   \n",
            "334           0         0                   0                0             0   \n",
            "227           0         0                   1                0             0   \n",
            "\n",
            "     Polyphagia  \n",
            "275           1  \n",
            "93            1  \n",
            "6             1  \n",
            "167           1  \n",
            "90            1  \n",
            "..          ...  \n",
            "69            1  \n",
            "357           0  \n",
            "423           1  \n",
            "334           0  \n",
            "227           0  \n",
            "\n",
            "[104 rows x 6 columns]\n",
            "[1 1 1 1 0 1 0 1 1 0 0 1 0 0 1 1 0 1 0 1 1 1 1 1 1 0 1 1 0 1 1 1 0 1 0 0 1\n",
            " 0 0 1 1 1 0 1 0 1 0 0 1 1 0 0 1 1 0 1 1 1 0 1 1 1 1 1 1 1 0 0 1 1 0 1 1 1\n",
            " 1 1 0 0 1 1 1 1 1 0 1 1 1 1 0 1 0 1 0 1 0 1 1 1 0 1 0 1 0 0]\n"
          ]
        }
      ]
    },
    {
      "cell_type": "markdown",
      "source": [
        "# Logistic Regression Performance\n"
      ],
      "metadata": {
        "id": "oYhMD-o_sMq5"
      }
    },
    {
      "cell_type": "code",
      "source": [
        "from sklearn import metrics\n",
        "from sklearn.metrics import classification_report\n",
        "print('Accuracy: ',metrics.accuracy_score(Y_test, Y_pred))\n",
        "print('Recall: ',metrics.recall_score(Y_test, Y_pred, zero_division=1))\n",
        "print('Precision: ',metrics.precision_score(Y_test, Y_pred, zero_division=1))\n",
        "print('F1-score: ', metrics.f1_score(Y_test, Y_pred, zero_division=1))\n",
        "print('CL Report: ',metrics.classification_report(Y_test, Y_pred, zero_division=1))"
      ],
      "metadata": {
        "colab": {
          "base_uri": "https://localhost:8080/"
        },
        "id": "Z6S6TxR8nmjL",
        "outputId": "21873dbc-60c6-40a0-be22-68ab0b07a404"
      },
      "execution_count": 25,
      "outputs": [
        {
          "output_type": "stream",
          "name": "stdout",
          "text": [
            "Accuracy:  0.8557692307692307\n",
            "Recall:  0.8591549295774648\n",
            "Precision:  0.9242424242424242\n",
            "F1-score:  0.8905109489051095\n",
            "CL Report:                precision    recall  f1-score   support\n",
            "\n",
            "           0       0.74      0.85      0.79        33\n",
            "           1       0.92      0.86      0.89        71\n",
            "\n",
            "    accuracy                           0.86       104\n",
            "   macro avg       0.83      0.85      0.84       104\n",
            "weighted avg       0.86      0.86      0.86       104\n",
            "\n"
          ]
        }
      ]
    },
    {
      "cell_type": "markdown",
      "source": [
        "\n",
        "The logistic regression model that we trained using the 6 best selected features resulted in an average\n",
        "\n",
        "1.   accuracy of 85 percent\n",
        "  * accuracy = the ratio of correctly predicted instances to the total number of instances.\n",
        "2.   recall of 86 percent\n",
        "  * recall = the proportion of actual positive cases that were correctly predicted. a high recall is beneficial when false negatives are costly.\n",
        "3.   precision of 92 percent\n",
        "  * precision = the proportion of correctly predicted cases out of all predicted positive cases. High precision means fewer false positives. Beneficial when false positives are costly.\n",
        "4. F1-score of 89\n",
        "  * a F1-score of 89 means that the model is balancing precision and recall well.\n",
        "\n"
      ],
      "metadata": {
        "id": "WykU88czsTO9"
      }
    },
    {
      "cell_type": "markdown",
      "source": [
        "# ROC Curve\n",
        "\n",
        "In this project, we evaluate the performance of the logistic regression model using a ROC (Receiver Operating Characteristic) curve. The ROC curve helps us visualize the trade-off between the True Positive Rate (Sensitivity) and the False Positive Rate, while the AUC (Area Under the Curve) quantifies the overall effectiveness of the classifier."
      ],
      "metadata": {
        "id": "z4vg9kH0u3xE"
      }
    },
    {
      "cell_type": "code",
      "source": [
        "y_pred_proba= logregression.predict_proba(X_test) [::,1]\n",
        "false_positive_rate, true_positive_rate, _ = metrics.roc_curve(Y_test, y_pred_proba)\n",
        "auc= metrics.roc_auc_score(Y_test, y_pred_proba)\n",
        "plt.plot(false_positive_rate, true_positive_rate,label=\"AUC=\"+str(auc))\n",
        "plt.title('ROC Curve')\n",
        "plt.ylabel('True Positive Rate')\n",
        "plt.xlabel('False Positive Rate')\n",
        "plt.legend(loc=4)"
      ],
      "metadata": {
        "colab": {
          "base_uri": "https://localhost:8080/",
          "height": 489
        },
        "id": "Nwiy6VUWpZoL",
        "outputId": "d1d7ce11-d924-45a5-c8b6-0045c0ff21dd"
      },
      "execution_count": 16,
      "outputs": [
        {
          "output_type": "execute_result",
          "data": {
            "text/plain": [
              "<matplotlib.legend.Legend at 0x784748df1610>"
            ]
          },
          "metadata": {},
          "execution_count": 16
        },
        {
          "output_type": "display_data",
          "data": {
            "text/plain": [
              "<Figure size 640x480 with 1 Axes>"
            ],
            "image/png": "[encoded data removed]"
          },
          "metadata": {}
        }
      ]
    },
    {
      "cell_type": "markdown",
      "source": [
        "# Discussion\n",
        "The model achieved an AUC of 0.92 meaning it (performs well, moderately, or poorly). A model with AUC = 1.0 is a perfect classifier, while AUC = 0.5 is no better than random guessing. The ROC curve suggests that the model is robust."
      ],
      "metadata": {
        "id": "h5lN30xvv_g-"
      }
    },
    {
      "cell_type": "markdown",
      "source": [
        "Now lets see with other models how the performance varies."
      ],
      "metadata": {
        "id": "0GDloHf6s05U"
      }
    },
    {
      "cell_type": "code",
      "source": [
        "from sklearn.linear_model import LogisticRegression\n",
        "from sklearn.svm import SVC\n",
        "from sklearn.tree import DecisionTreeClassifier\n",
        "from sklearn.ensemble import RandomForestClassifier,AdaBoostClassifier,BaggingClassifier,GradientBoostingClassifier\n",
        "from sklearn.neural_network import MLPClassifier\n",
        "from sklearn.metrics import roc_curve, roc_auc_score"
      ],
      "metadata": {
        "id": "8Ya4bWY1pECS"
      },
      "execution_count": 29,
      "outputs": []
    },
    {
      "cell_type": "code",
      "source": [
        "models = {\n",
        "    \"Logistic Regression\":LogisticRegression(),\n",
        "    \"Support Vector\":SVC(probability=True),\n",
        "    \"Decision Tree\":DecisionTreeClassifier(),\n",
        "    \"Random Forest\":RandomForestClassifier(),\n",
        "    \"AdaBoost\":AdaBoostClassifier(),\n",
        "    \"Bagging\":BaggingClassifier(),\n",
        "    \"Gradien Boosting\":GradientBoostingClassifier(),\n",
        "    \"MLP\":MLPClassifier()\n",
        "}\n",
        "\n",
        "for name, model in models.items():\n",
        "    model.fit(X_train, Y_train)\n",
        "    Y_pred = model.predict(X_test)\n",
        "    print(name)\n",
        "    print('Accuracy: ',metrics.accuracy_score(Y_test, Y_pred))\n",
        "    print('Precision: ',metrics.precision_score(Y_test, Y_pred, zero_division=1))\n",
        "    print('Recall: ',metrics.recall_score(Y_test, Y_pred, zero_division=1))\n",
        "\n",
        "plt.figure(figsize=(10, 6))\n",
        "for name, model in models.items():\n",
        "    model.fit(X_train, Y_train)\n",
        "    y_probs = model.predict_proba(X_test)[:, 1]\n",
        "    fpr, tpr, _ = roc_curve(Y_test, y_probs)\n",
        "    auc = roc_auc_score(Y_test, y_probs)\n",
        "    plt.plot(fpr, tpr, label=f'{name} (AUC = {auc:.2f})')\n",
        "\n",
        "plt.plot([0, 1], [0, 1], 'k--')  # Diagonal line (random performance)\n",
        "plt.xlabel(\"False Positive Rate (FPR)\")\n",
        "plt.ylabel(\"True Positive Rate (TPR)\")\n",
        "plt.title(\"ROC Curve Comparison\")\n",
        "plt.legend()\n",
        "plt.grid()\n",
        "plt.show()"
      ],
      "metadata": {
        "colab": {
          "base_uri": "https://localhost:8080/",
          "height": 1000
        },
        "id": "n4koQxNhs0q_",
        "outputId": "d85e579f-03ca-470f-a552-907201b2df84"
      },
      "execution_count": 32,
      "outputs": [
        {
          "output_type": "stream",
          "name": "stdout",
          "text": [
            "Logistic Regression\n",
            "Accuracy:  0.8461538461538461\n",
            "Precision:  0.9104477611940298\n",
            "Recall:  0.8591549295774648\n",
            "Support Vector\n",
            "Accuracy:  0.8942307692307693\n",
            "Precision:  0.96875\n",
            "Recall:  0.8732394366197183\n",
            "Decision Tree\n",
            "Accuracy:  0.8653846153846154\n",
            "Precision:  1.0\n",
            "Recall:  0.8028169014084507\n",
            "Random Forest\n",
            "Accuracy:  0.8942307692307693\n",
            "Precision:  0.96875\n",
            "Recall:  0.8732394366197183\n",
            "AdaBoost\n",
            "Accuracy:  0.8557692307692307\n",
            "Precision:  0.9117647058823529\n",
            "Recall:  0.8732394366197183\n",
            "Bagging\n",
            "Accuracy:  0.8942307692307693\n",
            "Precision:  0.96875\n",
            "Recall:  0.8732394366197183\n",
            "Gradien Boosting\n",
            "Accuracy:  0.8653846153846154\n",
            "Precision:  0.9384615384615385\n",
            "Recall:  0.8591549295774648\n"
          ]
        },
        {
          "output_type": "stream",
          "name": "stderr",
          "text": [
            "/usr/local/lib/python3.11/dist-packages/sklearn/neural_network/_multilayer_perceptron.py:691: ConvergenceWarning: Stochastic Optimizer: Maximum iterations (200) reached and the optimization hasn't converged yet.\n",
            "  warnings.warn(\n"
          ]
        },
        {
          "output_type": "stream",
          "name": "stdout",
          "text": [
            "MLP\n",
            "Accuracy:  0.8557692307692307\n",
            "Precision:  0.9117647058823529\n",
            "Recall:  0.8732394366197183\n"
          ]
        },
        {
          "output_type": "stream",
          "name": "stderr",
          "text": [
            "/usr/local/lib/python3.11/dist-packages/sklearn/neural_network/_multilayer_perceptron.py:691: ConvergenceWarning: Stochastic Optimizer: Maximum iterations (200) reached and the optimization hasn't converged yet.\n",
            "  warnings.warn(\n"
          ]
        },
        {
          "output_type": "display_data",
          "data": {
            "text/plain": [
              "<Figure size 1000x600 with 1 Axes>"
            ],
            "image/png": "[encoded data removed]"
          },
          "metadata": {}
        }
      ]
    },
    {
      "cell_type": "markdown",
      "source": [
        "# Results\n",
        "\n",
        "Based off of these results, SVM and bagging had the best balanced performance based on accuracy, precision, and recall.\n",
        "\n",
        "However, since for this specific classifier false negatives are more costly (e.g. missing a diagnosis), I would pick Bagging which has a higher recall and higher AUC value."
      ],
      "metadata": {
        "id": "FkriTYTkw1sI"
      }
    },
    {
      "cell_type": "markdown",
      "source": [
        "#Bagging\n",
        "\n",
        "Bagging is an ensemble learning method that improves the model performance by combining multiple base learners that are typically decision trees trained on different subsets of the data.\n",
        "\n",
        "Bagging begins with bootstrap sampling - where multiple subsets of the training data are randomely selected. Then, a separate base model is trained on each subset independantly. The final prediction is made by averaging across all models.\n",
        "\n",
        "Bagging increases the stability of the model and helps prevent overfitting significantly.\n",
        "\n"
      ],
      "metadata": {
        "id": "VgTbRoAqzwOC"
      }
    },
    {
      "cell_type": "markdown",
      "source": [
        "# Conclusion\n",
        "\n",
        "This project developed a **machine learning model** for **early-stage diabetes detection** using patient data. Given the risks of undiagnosed diabetes, an accurate predictive model is crucial for early intervention.  \n",
        "\n",
        "We evaluated multiple classifiers, including **Logistic Regression, SVM, Decision Tree, Random Forest, AdaBoost, Bagging, Gradient Boosting, and MLP**, based on **accuracy, precision, recall, F1-score, and AUC**. **SVM and Bagging performed best**, but **Bagging was chosen** due to its **higher recall and AUC**, making it the safer choice for medical diagnosis.  \n",
        "\n",
        "Bagging's **reduced overfitting and high recall** ensure reliable detection of high-risk individuals, making it well-suited for **preliminary diabetes screening** in clinical settings."
      ],
      "metadata": {
        "id": "vyOoeE8n0qnS"
      }
    }
  ]
}